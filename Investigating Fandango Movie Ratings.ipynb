{
 "cells": [
  {
   "cell_type": "markdown",
   "metadata": {},
   "source": [
    "# Introduction\n",
    "This project aims to investigate the discrepancy between the actual rating of a movie and the rating displayed on the Fandango ratings site.\n",
    "\n",
    "This follows an [analysis](https://fivethirtyeight.com/features/fandango-movies-ratings/) performed by data jounralist Walt Hickey in 2015 in which he found that Fandango's ratings system was biased and dishonest. Walt reported that movie ratings were regularly being rounded up to either the nearest half or even nearest whole star. The differences in actual vs reported ratings are shown in the image below.\n",
    "\n",
    "<img src=\"inflated_rating.png\" width=\"400\">\n",
    "\n",
    "More recent movie ratings data will be analysed in this project to investigate whether Fandango has corrected this error in their reporting. The original data used for Hickey's 2015 analaysis can be found [here](https://github.com/fivethirtyeight/data/tree/master/fandango) and the more recent data is available on [this](https://github.com/mircealex/Movie_ratings_2016_17) web page"
   ]
  },
  {
   "cell_type": "code",
   "execution_count": 1,
   "metadata": {},
   "outputs": [
    {
     "name": "stdout",
     "output_type": "stream",
     "text": [
      "Columns in dataset before analysis:\n",
      " Index(['FILM', 'RottenTomatoes', 'RottenTomatoes_User', 'Metacritic',\n",
      "       'Metacritic_User', 'IMDB', 'Fandango_Stars', 'Fandango_Ratingvalue',\n",
      "       'RT_norm', 'RT_user_norm', 'Metacritic_norm', 'Metacritic_user_nom',\n",
      "       'IMDB_norm', 'RT_norm_round', 'RT_user_norm_round',\n",
      "       'Metacritic_norm_round', 'Metacritic_user_norm_round',\n",
      "       'IMDB_norm_round', 'Metacritic_user_vote_count', 'IMDB_user_vote_count',\n",
      "       'Fandango_votes', 'Fandango_Difference'],\n",
      "      dtype='object')\n",
      "\n",
      "Columns in dataset before analysis:\n",
      " Index(['movie', 'year', 'metascore', 'imdb', 'tmeter', 'audience', 'fandango',\n",
      "       'n_metascore', 'n_imdb', 'n_tmeter', 'n_audience', 'nr_metascore',\n",
      "       'nr_imdb', 'nr_tmeter', 'nr_audience'],\n",
      "      dtype='object')\n"
     ]
    }
   ],
   "source": [
    "#Import libraries and read csv files\n",
    "import pandas as pd\n",
    "\n",
    "before_analysis = pd.read_csv('fandango_score_comparison.csv')\n",
    "after_analysis = pd.read_csv('movie_ratings_16_17.csv')\n",
    "\n",
    "print(\"Columns in dataset before analysis:\\n\", before_analysis.columns)\n",
    "print(\"\\nColumns in dataset before analysis:\\n\",after_analysis.columns)"
   ]
  },
  {
   "cell_type": "code",
   "execution_count": 2,
   "metadata": {},
   "outputs": [],
   "source": [
    "before_analysis_data = before_analysis[['FILM', 'Fandango_Stars', 'Fandango_Ratingvalue', \n",
    "                                        'Fandango_votes', 'Fandango_Difference']].copy()\n",
    "after_analysis_data = after_analysis[['movie', 'year', 'fandango']].copy()"
   ]
  },
  {
   "cell_type": "markdown",
   "metadata": {},
   "source": [
    "The goal of this project is to assess whether or not there has been any change in Fandango's reporting of a movie's rating since Hickey's analysis. The population of interest for this project is therefore all movies stored on Fandango's website.\n",
    "\n",
    "To complete an analysis of ratings before and after Hickey's analysis, we need to sample Fandango movie ratings data before and after his analysis. The data that is being used in this project can be considered as samples of movie ratings data on the Fandango website. In order to make inferences about the population, we need to ensure each sample of the data is representative of the whole pupulation. If the data is not representative, it is very likely that we will arrive at incorrect conclusions.\n",
    "\n",
    "The data for each sample of data was collected according to different sets of criteria. The critearia for Hickey's analysis can be found [here](https://github.com/fivethirtyeight/data/blob/master/fandango/README.md). The criteria for the data collected after Hickey's analysis can be found [here](https://github.com/mircealex/Movie_ratings_2016_17/blob/master/README.md)\n",
    "\n",
    "To be included in Hickey's study, a movie required a) at least 30 fan ratings and b) tickets on sale in 2015. This indicates that Hickey's sample is not representative since every movie did not have an equal chance of being included in the sample data. In addition to this issue, both sets of movie data are unlikely to be representative of the population (all movies on the website) since, for example, there is no way of knowing if movies released during the years selected for these samples were exceptionally good/bad compared to other years.\n",
    "\n",
    "These samples may have good enough for the purpose of the author's research in each of the samples, but they are not representative for this analysis."
   ]
  },
  {
   "cell_type": "markdown",
   "metadata": {},
   "source": [
    "# Changing the goal of our analysis\n",
    "\n",
    "As concluded above, the data available in these samples is not representative enough to determine whether or not Fandango's rating system has changed since Hickey's analysis.\n",
    "\n",
    "This leaves us with two options. We can either:\n",
    "1. Abandon this study in its current form and collect new data that is more representative of the population\n",
    "2. Change the goal of our analysis\n",
    "\n",
    "The project notes suggest changing our goal to determine whether there has been any difference between Fandango's ratings for **popular** movies in 2015 and **popular** movies in 2016. This will therefore be the new goal for this project.\n",
    "\n",
    "Because Hickey used a criteria of 30 fan ratings to include a movie in his sample, we will use this number to define a movie as being \"popular\". The notes for this project indicated that the number of fan reviews for each movie in the sample collected after Hickey's analysis should be checked on the Fandango website to get an idea of their representativeness. Unfortunately, Fandango has replaced their 5-star fan ratings with the Rotten Tomatoes Audience Score. This is interesting because that may be due to Hickey's findings! In any case, the notes indicated that 90% of the movies in this sample meet our definition of a movie being \"popular\" (the project was created at a time when Fandango still indicated their number of fan reviews). We can therefore move forward with this analysis."
   ]
  },
  {
   "cell_type": "markdown",
   "metadata": {},
   "source": [
    "# Data Exploration\n",
    "\n",
    "Let's have a quick look at the first 20 rows of each dataset to investigate the type of information available to us:"
   ]
  },
  {
   "cell_type": "code",
   "execution_count": 3,
   "metadata": {},
   "outputs": [
    {
     "data": {
      "text/html": [
       "<div>\n",
       "<style scoped>\n",
       "    .dataframe tbody tr th:only-of-type {\n",
       "        vertical-align: middle;\n",
       "    }\n",
       "\n",
       "    .dataframe tbody tr th {\n",
       "        vertical-align: top;\n",
       "    }\n",
       "\n",
       "    .dataframe thead th {\n",
       "        text-align: right;\n",
       "    }\n",
       "</style>\n",
       "<table border=\"1\" class=\"dataframe\">\n",
       "  <thead>\n",
       "    <tr style=\"text-align: right;\">\n",
       "      <th></th>\n",
       "      <th>FILM</th>\n",
       "      <th>Fandango_Stars</th>\n",
       "      <th>Fandango_Ratingvalue</th>\n",
       "      <th>Fandango_votes</th>\n",
       "      <th>Fandango_Difference</th>\n",
       "    </tr>\n",
       "  </thead>\n",
       "  <tbody>\n",
       "    <tr>\n",
       "      <th>0</th>\n",
       "      <td>Avengers: Age of Ultron (2015)</td>\n",
       "      <td>5.0</td>\n",
       "      <td>4.5</td>\n",
       "      <td>14846</td>\n",
       "      <td>0.5</td>\n",
       "    </tr>\n",
       "    <tr>\n",
       "      <th>1</th>\n",
       "      <td>Cinderella (2015)</td>\n",
       "      <td>5.0</td>\n",
       "      <td>4.5</td>\n",
       "      <td>12640</td>\n",
       "      <td>0.5</td>\n",
       "    </tr>\n",
       "    <tr>\n",
       "      <th>2</th>\n",
       "      <td>Ant-Man (2015)</td>\n",
       "      <td>5.0</td>\n",
       "      <td>4.5</td>\n",
       "      <td>12055</td>\n",
       "      <td>0.5</td>\n",
       "    </tr>\n",
       "    <tr>\n",
       "      <th>3</th>\n",
       "      <td>Do You Believe? (2015)</td>\n",
       "      <td>5.0</td>\n",
       "      <td>4.5</td>\n",
       "      <td>1793</td>\n",
       "      <td>0.5</td>\n",
       "    </tr>\n",
       "    <tr>\n",
       "      <th>4</th>\n",
       "      <td>Hot Tub Time Machine 2 (2015)</td>\n",
       "      <td>3.5</td>\n",
       "      <td>3.0</td>\n",
       "      <td>1021</td>\n",
       "      <td>0.5</td>\n",
       "    </tr>\n",
       "    <tr>\n",
       "      <th>5</th>\n",
       "      <td>The Water Diviner (2015)</td>\n",
       "      <td>4.5</td>\n",
       "      <td>4.0</td>\n",
       "      <td>397</td>\n",
       "      <td>0.5</td>\n",
       "    </tr>\n",
       "    <tr>\n",
       "      <th>6</th>\n",
       "      <td>Irrational Man (2015)</td>\n",
       "      <td>4.0</td>\n",
       "      <td>3.5</td>\n",
       "      <td>252</td>\n",
       "      <td>0.5</td>\n",
       "    </tr>\n",
       "    <tr>\n",
       "      <th>7</th>\n",
       "      <td>Top Five (2014)</td>\n",
       "      <td>4.0</td>\n",
       "      <td>3.5</td>\n",
       "      <td>3223</td>\n",
       "      <td>0.5</td>\n",
       "    </tr>\n",
       "    <tr>\n",
       "      <th>8</th>\n",
       "      <td>Shaun the Sheep Movie (2015)</td>\n",
       "      <td>4.5</td>\n",
       "      <td>4.0</td>\n",
       "      <td>896</td>\n",
       "      <td>0.5</td>\n",
       "    </tr>\n",
       "    <tr>\n",
       "      <th>9</th>\n",
       "      <td>Love &amp; Mercy (2015)</td>\n",
       "      <td>4.5</td>\n",
       "      <td>4.0</td>\n",
       "      <td>864</td>\n",
       "      <td>0.5</td>\n",
       "    </tr>\n",
       "    <tr>\n",
       "      <th>10</th>\n",
       "      <td>Far From The Madding Crowd (2015)</td>\n",
       "      <td>4.5</td>\n",
       "      <td>4.0</td>\n",
       "      <td>804</td>\n",
       "      <td>0.5</td>\n",
       "    </tr>\n",
       "    <tr>\n",
       "      <th>11</th>\n",
       "      <td>Black Sea (2015)</td>\n",
       "      <td>4.0</td>\n",
       "      <td>3.5</td>\n",
       "      <td>218</td>\n",
       "      <td>0.5</td>\n",
       "    </tr>\n",
       "    <tr>\n",
       "      <th>12</th>\n",
       "      <td>Leviathan (2014)</td>\n",
       "      <td>4.0</td>\n",
       "      <td>3.5</td>\n",
       "      <td>64</td>\n",
       "      <td>0.5</td>\n",
       "    </tr>\n",
       "    <tr>\n",
       "      <th>13</th>\n",
       "      <td>Unbroken (2014)</td>\n",
       "      <td>4.5</td>\n",
       "      <td>4.1</td>\n",
       "      <td>9443</td>\n",
       "      <td>0.4</td>\n",
       "    </tr>\n",
       "    <tr>\n",
       "      <th>14</th>\n",
       "      <td>The Imitation Game (2014)</td>\n",
       "      <td>5.0</td>\n",
       "      <td>4.6</td>\n",
       "      <td>8055</td>\n",
       "      <td>0.4</td>\n",
       "    </tr>\n",
       "  </tbody>\n",
       "</table>\n",
       "</div>"
      ],
      "text/plain": [
       "                                 FILM  Fandango_Stars  Fandango_Ratingvalue  \\\n",
       "0      Avengers: Age of Ultron (2015)             5.0                   4.5   \n",
       "1                   Cinderella (2015)             5.0                   4.5   \n",
       "2                      Ant-Man (2015)             5.0                   4.5   \n",
       "3              Do You Believe? (2015)             5.0                   4.5   \n",
       "4       Hot Tub Time Machine 2 (2015)             3.5                   3.0   \n",
       "5            The Water Diviner (2015)             4.5                   4.0   \n",
       "6               Irrational Man (2015)             4.0                   3.5   \n",
       "7                     Top Five (2014)             4.0                   3.5   \n",
       "8        Shaun the Sheep Movie (2015)             4.5                   4.0   \n",
       "9                 Love & Mercy (2015)             4.5                   4.0   \n",
       "10  Far From The Madding Crowd (2015)             4.5                   4.0   \n",
       "11                   Black Sea (2015)             4.0                   3.5   \n",
       "12                   Leviathan (2014)             4.0                   3.5   \n",
       "13                    Unbroken (2014)             4.5                   4.1   \n",
       "14          The Imitation Game (2014)             5.0                   4.6   \n",
       "\n",
       "    Fandango_votes  Fandango_Difference  \n",
       "0            14846                  0.5  \n",
       "1            12640                  0.5  \n",
       "2            12055                  0.5  \n",
       "3             1793                  0.5  \n",
       "4             1021                  0.5  \n",
       "5              397                  0.5  \n",
       "6              252                  0.5  \n",
       "7             3223                  0.5  \n",
       "8              896                  0.5  \n",
       "9              864                  0.5  \n",
       "10             804                  0.5  \n",
       "11             218                  0.5  \n",
       "12              64                  0.5  \n",
       "13            9443                  0.4  \n",
       "14            8055                  0.4  "
      ]
     },
     "execution_count": 3,
     "metadata": {},
     "output_type": "execute_result"
    }
   ],
   "source": [
    "#Check first 15 rows of data collected before Hickey's analysis:\n",
    "before_analysis_data.head(15)"
   ]
  },
  {
   "cell_type": "code",
   "execution_count": 4,
   "metadata": {},
   "outputs": [
    {
     "data": {
      "text/html": [
       "<div>\n",
       "<style scoped>\n",
       "    .dataframe tbody tr th:only-of-type {\n",
       "        vertical-align: middle;\n",
       "    }\n",
       "\n",
       "    .dataframe tbody tr th {\n",
       "        vertical-align: top;\n",
       "    }\n",
       "\n",
       "    .dataframe thead th {\n",
       "        text-align: right;\n",
       "    }\n",
       "</style>\n",
       "<table border=\"1\" class=\"dataframe\">\n",
       "  <thead>\n",
       "    <tr style=\"text-align: right;\">\n",
       "      <th></th>\n",
       "      <th>movie</th>\n",
       "      <th>year</th>\n",
       "      <th>fandango</th>\n",
       "    </tr>\n",
       "  </thead>\n",
       "  <tbody>\n",
       "    <tr>\n",
       "      <th>0</th>\n",
       "      <td>10 Cloverfield Lane</td>\n",
       "      <td>2016</td>\n",
       "      <td>3.5</td>\n",
       "    </tr>\n",
       "    <tr>\n",
       "      <th>1</th>\n",
       "      <td>13 Hours</td>\n",
       "      <td>2016</td>\n",
       "      <td>4.5</td>\n",
       "    </tr>\n",
       "    <tr>\n",
       "      <th>2</th>\n",
       "      <td>A Cure for Wellness</td>\n",
       "      <td>2016</td>\n",
       "      <td>3.0</td>\n",
       "    </tr>\n",
       "    <tr>\n",
       "      <th>3</th>\n",
       "      <td>A Dog's Purpose</td>\n",
       "      <td>2017</td>\n",
       "      <td>4.5</td>\n",
       "    </tr>\n",
       "    <tr>\n",
       "      <th>4</th>\n",
       "      <td>A Hologram for the King</td>\n",
       "      <td>2016</td>\n",
       "      <td>3.0</td>\n",
       "    </tr>\n",
       "    <tr>\n",
       "      <th>5</th>\n",
       "      <td>A Monster Calls</td>\n",
       "      <td>2016</td>\n",
       "      <td>4.0</td>\n",
       "    </tr>\n",
       "    <tr>\n",
       "      <th>6</th>\n",
       "      <td>A Street Cat Named Bob</td>\n",
       "      <td>2016</td>\n",
       "      <td>4.5</td>\n",
       "    </tr>\n",
       "    <tr>\n",
       "      <th>7</th>\n",
       "      <td>Alice Through the Looking Glass</td>\n",
       "      <td>2016</td>\n",
       "      <td>4.0</td>\n",
       "    </tr>\n",
       "    <tr>\n",
       "      <th>8</th>\n",
       "      <td>Allied</td>\n",
       "      <td>2016</td>\n",
       "      <td>4.0</td>\n",
       "    </tr>\n",
       "    <tr>\n",
       "      <th>9</th>\n",
       "      <td>Amateur Night</td>\n",
       "      <td>2016</td>\n",
       "      <td>3.5</td>\n",
       "    </tr>\n",
       "    <tr>\n",
       "      <th>10</th>\n",
       "      <td>Anthropoid</td>\n",
       "      <td>2016</td>\n",
       "      <td>4.0</td>\n",
       "    </tr>\n",
       "    <tr>\n",
       "      <th>11</th>\n",
       "      <td>Approaching the Unknown</td>\n",
       "      <td>2016</td>\n",
       "      <td>3.5</td>\n",
       "    </tr>\n",
       "    <tr>\n",
       "      <th>12</th>\n",
       "      <td>Arrival</td>\n",
       "      <td>2016</td>\n",
       "      <td>4.0</td>\n",
       "    </tr>\n",
       "    <tr>\n",
       "      <th>13</th>\n",
       "      <td>Arsenal</td>\n",
       "      <td>2017</td>\n",
       "      <td>3.5</td>\n",
       "    </tr>\n",
       "    <tr>\n",
       "      <th>14</th>\n",
       "      <td>Assassin's Creed</td>\n",
       "      <td>2016</td>\n",
       "      <td>4.0</td>\n",
       "    </tr>\n",
       "  </tbody>\n",
       "</table>\n",
       "</div>"
      ],
      "text/plain": [
       "                              movie  year  fandango\n",
       "0               10 Cloverfield Lane  2016       3.5\n",
       "1                          13 Hours  2016       4.5\n",
       "2               A Cure for Wellness  2016       3.0\n",
       "3                   A Dog's Purpose  2017       4.5\n",
       "4           A Hologram for the King  2016       3.0\n",
       "5                   A Monster Calls  2016       4.0\n",
       "6            A Street Cat Named Bob  2016       4.5\n",
       "7   Alice Through the Looking Glass  2016       4.0\n",
       "8                            Allied  2016       4.0\n",
       "9                     Amateur Night  2016       3.5\n",
       "10                       Anthropoid  2016       4.0\n",
       "11          Approaching the Unknown  2016       3.5\n",
       "12                          Arrival  2016       4.0\n",
       "13                          Arsenal  2017       3.5\n",
       "14                 Assassin's Creed  2016       4.0"
      ]
     },
     "execution_count": 4,
     "metadata": {},
     "output_type": "execute_result"
    }
   ],
   "source": [
    "#Check first 15 rows of data collected after Hickey's analysis:\n",
    "\n",
    "after_analysis_data.head(15)"
   ]
  },
  {
   "cell_type": "markdown",
   "metadata": {},
   "source": [
    "It is clear that each dataset contains movies released during years that are not within the scope of this analysis (2015 & 2016). Movies released in 2015 and 2016 should therefore be isolated from each set.\n",
    "\n",
    "Due to the format of each dataset, the way the year is extracted and then identified has to be approached in two different ways. The format used to indicate the year of a movie for each dataset is outlined below:\n",
    "- 2015 - Year stored as text in same cell as movie title\n",
    "- 2016 - Year stored in isolated, numerical column"
   ]
  },
  {
   "cell_type": "code",
   "execution_count": 5,
   "metadata": {},
   "outputs": [
    {
     "name": "stdout",
     "output_type": "stream",
     "text": [
      "Number of movies in dataset before Hickey's analysis: 146\n",
      "Number of 2015 movies in dataset after Hickey's analysis: 129 \n",
      "\n",
      "Number of movies in dataset after Hickey's analysis: 214\n",
      "Number of 2016 movies in dataset after Hickey's analysis: 191 \n",
      "\n",
      "Unique years in movies_2016: [2016]\n"
     ]
    }
   ],
   "source": [
    "movies_2015 = before_analysis_data[before_analysis_data[\"FILM\"].str.contains(\"2015\")]\n",
    "movies_2016 = after_analysis_data[after_analysis_data[\"year\"] == 2016]\n",
    "\n",
    "#Number of movies in dataset before Hickey's analysis\n",
    "print(\"Number of movies in dataset before Hickey's analysis:\", len(before_analysis_data))\n",
    "#Number of 2015 movies from before Hickey's analysis\n",
    "print(\"Number of 2015 movies in dataset after Hickey's analysis:\", len(movies_2015),\"\\n\")\n",
    "\n",
    "#Number of movies in dataset after Hickey's analysis\n",
    "print(\"Number of movies in dataset after Hickey's analysis:\", len(after_analysis_data))\n",
    "#Number of 2016 movies from after Hickey's analysis\n",
    "print(\"Number of 2016 movies in dataset after Hickey's analysis:\", len(movies_2016),\"\\n\")\n",
    "\n",
    "#Print unique years in movies_2016 to confirm correct boolean indexing \n",
    "print(\"Unique years in movies_2016:\", movies_2016['year'].unique())"
   ]
  },
  {
   "cell_type": "markdown",
   "metadata": {},
   "source": [
    "The number of movies has decreased for each dataset indicating that boolean indexing to select only movies from 2015 and 2016 has worked correctly. An additional check was done for the dataset after Hickey's analysis since the year for this dataset is stored in its own column"
   ]
  },
  {
   "cell_type": "markdown",
   "metadata": {},
   "source": [
    "We can now start analyzing the data in each of the two isolated samples. Let's start by making a high-level comparison between the shapes of the districbutions of movie ratings for each sample:"
   ]
  },
  {
   "cell_type": "code",
   "execution_count": 6,
   "metadata": {},
   "outputs": [
    {
     "data": {
      "text/plain": [
       "<Figure size 800x550 with 1 Axes>"
      ]
     },
     "metadata": {},
     "output_type": "display_data"
    }
   ],
   "source": [
    "import matplotlib.pyplot as plt\n",
    "import numpy as np\n",
    "\n",
    "#Plot kernel density plots to show frequency of each rating\n",
    "movies_2015['Fandango_Stars'].plot.kde(label = '2015', legend = True, figsize = (8,5.5))\n",
    "movies_2016['fandango'].plot.kde(label = '2016', legend = True)\n",
    "\n",
    "#Add plot information\n",
    "plt.title(\"Fandango.com Popular Movie Ratings - 2015 vs 2016 \")\n",
    "plt.xlabel(\"Number of stars\")\n",
    "plt.ylabel(\"Density\")\n",
    "plt.xticks(np.arange(0,5.5,0.5))\n",
    "plt.style.use('fivethirtyeight')\n",
    "plt.legend()\n",
    "\n",
    "plt.show()"
   ]
  },
  {
   "cell_type": "markdown",
   "metadata": {},
   "source": [
    "# Analyis - 2015 vs 2016\n",
    "\n",
    "There are two very clear observations that can be made from the chart above:\n",
    "- Both distributions are very negatively skewed\n",
    "- The data for movies released in 2016 is shifted to the left relative to the 2015 movie data\n",
    "\n",
    "\n",
    "The first point above indicates that most movies on Fandango are given high to very high ratings. The second point indicates there may have been a reaction by Fandango following Hickey's study on the 2015 data since the ratings for popular movies released in 2016 were lower than those released in 2015. "
   ]
  },
  {
   "cell_type": "markdown",
   "metadata": {},
   "source": [
    "# Frequency Distributions\n",
    "\n",
    "The kernel density plots were a good start for comparing the distributions of each dataset. Let's have a look at the distributions in a tabular format.\n",
    "\n",
    "The tables below have been normalized to show the frequency of each ratings as a percentage since there is a different number of movies in each sample"
   ]
  },
  {
   "cell_type": "code",
   "execution_count": 7,
   "metadata": {},
   "outputs": [
    {
     "name": "stdout",
     "output_type": "stream",
     "text": [
      "Frequency of ratings in 2015 movie sample:\n",
      "3.0     8.527132\n",
      "3.5    17.829457\n",
      "4.0    28.682171\n",
      "4.5    37.984496\n",
      "5.0     6.976744\n",
      "Name: Fandango_Stars, dtype: float64\n"
     ]
    }
   ],
   "source": [
    "print(\"Frequency of ratings in 2015 movie sample:\")\n",
    "distr_2015 = movies_2015['Fandango_Stars'].value_counts(normalize = True).sort_index() * 100\n",
    "print(distr_2015)"
   ]
  },
  {
   "cell_type": "code",
   "execution_count": 8,
   "metadata": {},
   "outputs": [
    {
     "name": "stdout",
     "output_type": "stream",
     "text": [
      "Frequency of ratings in 2016 movie sample:\n",
      "2.5     3.141361\n",
      "3.0     7.329843\n",
      "3.5    24.083770\n",
      "4.0    40.314136\n",
      "4.5    24.607330\n",
      "5.0     0.523560\n",
      "Name: fandango, dtype: float64\n"
     ]
    }
   ],
   "source": [
    "print(\"Frequency of ratings in 2016 movie sample:\")\n",
    "distr_2016 = movies_2016['fandango'].value_counts(normalize = True).sort_index() * 100\n",
    "print(distr_2016)"
   ]
  },
  {
   "cell_type": "markdown",
   "metadata": {},
   "source": [
    "It is clear from the frequency distributions above that the frequency of very high ratings (4.5 and 5 stars) decreased between 2015 and 2016. Nearly 7% of movies in the 2015 sample had a 5 star rating, whereas less than 1% of movies in the 2016 sample had 5 star ratings. This trend is similar for 4.5 star ratings, which were awared to 38% of movies in the 2015 sample and only 24.6% in the 2015 sample.\n",
    "\n",
    "The range of ratings also increased in 2016. All ratings in the 2015 sample were between 3.0 and 5.0 stars, whereas ratings in the 2016 sample covered a range of 2.5 to 5 stars. This is another indicator of the left-shift shown in the kernel density plots shown above.\n",
    "\n",
    "A higher percentage of movies received 3.5 and 4 star ratings in 2016. It is interesting to note that there was a drop of approximately 20% in movies that received either 4.5 or 5 star ratings in 2016 and an increase of approximately 18% in ratings of either 3.5 or 4 stars. This indicates the left-shit in 2016 data may have been largely due to a focussed reduction of reported rating in the high to very high range.\n",
    "\n",
    "The increase in movies receiving 3.5 and 4 star ratings disagrees with the general left-shift seen across the whole of the sample, so some more investigation is required"
   ]
  },
  {
   "cell_type": "markdown",
   "metadata": {},
   "source": [
    "# Compare summary statistics\n",
    "\n",
    "Whilst there was a decrease in movies with a very high rating in 2016, there was a significant increase in movies with medium to high ratings, which cast some doubt on the direction of the difference between these years. To get a better indication of the direction change, let's compare the summary statistics (mean, median, mode) below:"
   ]
  },
  {
   "cell_type": "code",
   "execution_count": 9,
   "metadata": {},
   "outputs": [
    {
     "name": "stdout",
     "output_type": "stream",
     "text": [
      "Sample Means\n",
      "============\n",
      "2015 sample: 4.085\n",
      "2016 sample: 3.887\n",
      "\n",
      "\n",
      "Sample Medians\n",
      "============\n",
      "2015 sample: 4.0\n",
      "2016 sample: 4.0\n",
      "\n",
      "\n",
      "Sample Modes\n",
      "============\n",
      "2015 sample: 4.5\n",
      "2016 sample: 4.0\n"
     ]
    }
   ],
   "source": [
    "print('Sample Means\\n============')\n",
    "mean_2015 = round(movies_2015['Fandango_Stars'].mean(),3)\n",
    "mean_2016 = round(movies_2016['fandango'].mean(),3)\n",
    "print('2015 sample:',mean_2015)\n",
    "print('2016 sample:',mean_2016)\n",
    "\n",
    "print('\\n')\n",
    "print('Sample Medians\\n============')\n",
    "median_2015 = movies_2015['Fandango_Stars'].median()\n",
    "median_2016 = movies_2016['fandango'].median()\n",
    "print('2015 sample:',median_2015)\n",
    "print('2016 sample:',median_2016)\n",
    "\n",
    "\n",
    "print('\\n')\n",
    "print('Sample Modes\\n============')\n",
    "mode_2015 = movies_2015['Fandango_Stars'].mode()[0]\n",
    "mode_2016 = movies_2016['fandango'].mode()[0]\n",
    "print('2015 sample:',mode_2015)\n",
    "print('2016 sample:',mode_2016)"
   ]
  },
  {
   "cell_type": "markdown",
   "metadata": {},
   "source": [
    "The data above can be viewed and compared more easily if it is presented as a table and/or plotted on a bar chart"
   ]
  },
  {
   "cell_type": "code",
   "execution_count": 10,
   "metadata": {},
   "outputs": [
    {
     "data": {
      "text/html": [
       "<div>\n",
       "<style scoped>\n",
       "    .dataframe tbody tr th:only-of-type {\n",
       "        vertical-align: middle;\n",
       "    }\n",
       "\n",
       "    .dataframe tbody tr th {\n",
       "        vertical-align: top;\n",
       "    }\n",
       "\n",
       "    .dataframe thead th {\n",
       "        text-align: right;\n",
       "    }\n",
       "</style>\n",
       "<table border=\"1\" class=\"dataframe\">\n",
       "  <thead>\n",
       "    <tr style=\"text-align: right;\">\n",
       "      <th></th>\n",
       "      <th>2015</th>\n",
       "      <th>2016</th>\n",
       "    </tr>\n",
       "  </thead>\n",
       "  <tbody>\n",
       "    <tr>\n",
       "      <th>mean</th>\n",
       "      <td>4.085</td>\n",
       "      <td>3.887</td>\n",
       "    </tr>\n",
       "    <tr>\n",
       "      <th>median</th>\n",
       "      <td>4.000</td>\n",
       "      <td>4.000</td>\n",
       "    </tr>\n",
       "    <tr>\n",
       "      <th>mode</th>\n",
       "      <td>4.500</td>\n",
       "      <td>4.000</td>\n",
       "    </tr>\n",
       "  </tbody>\n",
       "</table>\n",
       "</div>"
      ],
      "text/plain": [
       "         2015   2016\n",
       "mean    4.085  3.887\n",
       "median  4.000  4.000\n",
       "mode    4.500  4.000"
      ]
     },
     "execution_count": 10,
     "metadata": {},
     "output_type": "execute_result"
    }
   ],
   "source": [
    "summary = pd.DataFrame()\n",
    "summary['2015'] = [mean_2015, median_2015, mode_2015]\n",
    "summary['2016'] = [mean_2016, median_2016, mode_2016]\n",
    "#Replace numbers in index column with descripttions\n",
    "summary.index = ['mean','median','mode']\n",
    "summary"
   ]
  },
  {
   "cell_type": "code",
   "execution_count": 11,
   "metadata": {},
   "outputs": [
    {
     "data": {
      "image/png": "[encoded data removed]",
      "text/plain": [
       "<Figure size 576x432 with 1 Axes>"
      ]
     },
     "metadata": {
      "needs_background": "light"
     },
     "output_type": "display_data"
    }
   ],
   "source": [
    "summary.plot.bar(label = '2015', legend = True, figsize = (8,6))\n",
    "\n",
    "plt.title(\"Summary Statistic Comparistion: 2015 vs 2016\",y = 1.01)\n",
    "plt.xlabel(\"Statistic\")\n",
    "plt.ylabel(\"Stars\")\n",
    "plt.xticks(rotation = 0)\n",
    "plt.yticks(np.arange(0,5.1,0.5))\n",
    "plt.ylim(0,5.5)\n",
    "plt.legend()\n",
    "\n",
    "plt.savefig('comparison.png', bbox_inches='tight')\n",
    "plt.show()"
   ]
  },
  {
   "cell_type": "markdown",
   "metadata": {},
   "source": [
    "The chart above indicates that the mean movie rating decreased from 2015 to 2016 by approximately 0.2 stars. The mode of the sample movie ratings also decreased from 4.5 stars in 2015 to 4 stars in 2016."
   ]
  },
  {
   "cell_type": "code",
   "execution_count": 12,
   "metadata": {},
   "outputs": [
    {
     "data": {
      "text/plain": [
       "5.09"
      ]
     },
     "execution_count": 12,
     "metadata": {},
     "output_type": "execute_result"
    }
   ],
   "source": [
    "#Check percentage drop for mean rating from 2015 to 2016\n",
    "round(100*(summary.loc['mean'][0] - summary.loc['mean'][1]) / summary.loc['mean'][1],2)"
   ]
  },
  {
   "cell_type": "markdown",
   "metadata": {},
   "source": [
    "The 0.2 star drop in the mean corresponds to a 5% reduction relative to 2015.\n",
    "\n",
    "While the median was the same in both years, the lowering of both the mean and mode confirm what was shown on the kernel density plots earlier in this project: on average, there was a reduction in the rating of popular movies between 2015 and 2016 on the Fandango website"
   ]
  },
  {
   "cell_type": "markdown",
   "metadata": {},
   "source": [
    "# Conclusion\n",
    "\n",
    "The aim of this project was to investigate discrepencies between actual movie ratings and those reported on the Fandango webpage. More specifically, a comparison was done between Fandango's ratings for popular movies released in 2015 and 2016. \n",
    "\n",
    "Walt Hickey found that Fandango seemed to be inflating 2015 movie ratings and released a report about his findings. To investigate any reaction by Fandango, this project compared the 2015 movie ratings used in Hickey's analysis to more recent data on movies released in 2016.\n",
    "\n",
    "The analysis completed during this project showed that there was a reduction in reported movie reviews on the Fandango website between 2015 and 2016. We can't be sure, but this may well have been due to Hickey's analysis presented in the introduction to this project. The differences between the mean, median and mode for popular 2015 and 2016 movies is shown in the chart below.\n",
    "\n",
    "<img src=\"comparison.png\" width=\"500\">\n",
    "\n",
    "While there was a reduction between these two years, it was found that Fandango has in fact replaced their \"5-star fan ratings\" with the Rotten Tomatoes Audience Score. This may indicate there was still a discrepency in the Fandango ratings compared to other popular websites even after their rating correction/reduction in 2016."
   ]
  }
 ],
 "metadata": {
  "kernelspec": {
   "display_name": "Python 3",
   "language": "python",
   "name": "python3"
  },
  "language_info": {
   "codemirror_mode": {
    "name": "ipython",
    "version": 3
   },
   "file_extension": ".py",
   "mimetype": "text/x-python",
   "name": "python",
   "nbconvert_exporter": "python",
   "pygments_lexer": "ipython3",
   "version": "3.7.3"
  }
 },
 "nbformat": 4,
 "nbformat_minor": 2
}
